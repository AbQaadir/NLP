{
 "cells": [
  {
   "cell_type": "markdown",
   "metadata": {},
   "source": [
    "## One hot encoding"
   ]
  },
  {
   "cell_type": "markdown",
   "metadata": {},
   "source": [
    "#### One hot encoding for words"
   ]
  },
  {
   "cell_type": "code",
   "execution_count": 2,
   "metadata": {},
   "outputs": [
    {
     "name": "stdout",
     "output_type": "stream",
     "text": [
      "[1. 1. 1. 0. 0.]\n"
     ]
    }
   ],
   "source": [
    "import numpy as np\n",
    "\n",
    "# The words in our dictionary\n",
    "words = ['I', 'like', 'cats', 'and', 'dogs']\n",
    "\n",
    "# The sentence we want to encode\n",
    "sentence = 'I like cats'\n",
    "\n",
    "# Create a dictionary that maps words to integers\n",
    "word2int = {word: i for i, word in enumerate(words)}\n",
    "\n",
    "# Create a one-hot encoding of the sentence\n",
    "encoding = np.zeros(len(words))\n",
    "for word in sentence.split():\n",
    "    encoding[word2int[word]] = 1\n",
    "    \n",
    "print(encoding)"
   ]
  },
  {
   "cell_type": "markdown",
   "metadata": {},
   "source": [
    "#### One hot encoding for paragraph"
   ]
  },
  {
   "cell_type": "code",
   "execution_count": 3,
   "metadata": {},
   "outputs": [],
   "source": [
    "speach = \"\"\"\n",
    "Here is a speech about Dr. A.P.J. Abdul Kalam:\n",
    "\n",
    "Ladies and gentlemen, today I want to talk to you about a truly inspirational figure, Dr. A.P.J. Abdul Kalam, the 11th President of India. Born on October 15, 1931, in Rameswaram, Tamil Nadu, Dr. Kalam was a man of great vision, passion, and dedication. He was a renowned aerospace scientist, statesman, and a true leader who inspired millions of people around the world.\n",
    "\n",
    "Dr. Kalam's life is a testament to the power of hard work, perseverance, and determination. From a humble beginning, he rose to become one of the most respected and beloved leaders of our time. His contributions to the development of India's missile program, his leadership in making India a nuclear power, and his vision for a developed India are just a few examples of his outstanding achievements.\n",
    "\n",
    "But Dr. Kalam was more than just a scientist or a politician. He was a true patriot, a passionate educator, and a champion of the youth. He believed in the potential of every individual, especially the young, to make a difference in the world. He inspired us to dream big, to work hard, and to strive for excellence in everything we do.\n",
    "\n",
    "\"\"\""
   ]
  },
  {
   "cell_type": "code",
   "execution_count": 9,
   "metadata": {},
   "outputs": [
    {
     "name": "stdout",
     "output_type": "stream",
     "text": [
      "['', 'Here is a speech about Dr. A.P.J. Abdul Kalam:', '', 'Ladies and gentlemen, today I want to talk to you about a truly inspirational figure, Dr. A.P.J. Abdul Kalam, the 11th President of India. Born on October 15, 1931, in Rameswaram, Tamil Nadu, Dr. Kalam was a man of great vision, passion, and dedication. He was a renowned aerospace scientist, statesman, and a true leader who inspired millions of people around the world.', '', \"Dr. Kalam's life is a testament to the power of hard work, perseverance, and determination. From a humble beginning, he rose to become one of the most respected and beloved leaders of our time. His contributions to the development of India's missile program, his leadership in making India a nuclear power, and his vision for a developed India are just a few examples of his outstanding achievements.\", '', 'But Dr. Kalam was more than just a scientist or a politician. He was a true patriot, a passionate educator, and a champion of the youth. He believed in the potential of every individual, especially the young, to make a difference in the world. He inspired us to dream big, to work hard, and to strive for excellence in everything we do.', '', '']\n"
     ]
    }
   ],
   "source": []
  },
  {
   "cell_type": "code",
   "execution_count": 5,
   "metadata": {},
   "outputs": [
    {
     "name": "stdout",
     "output_type": "stream",
     "text": [
      "127\n",
      "201\n"
     ]
    }
   ],
   "source": [
    "# unique words in the speech\n",
    "print(len(set(speach.split())))\n",
    "print(len(speach.split()))"
   ]
  },
  {
   "cell_type": "code",
   "execution_count": 8,
   "metadata": {},
   "outputs": [
    {
     "name": "stdout",
     "output_type": "stream",
     "text": [
      "Unique words: 4\n",
      "Unique words: {'hello', 'world,', 'Hello', 'again!'}\n",
      "Total words: 5\n",
      "Total words: ['Hello', 'world,', 'hello', 'again!', 'hello']\n"
     ]
    }
   ],
   "source": [
    "speech = \"Hello world, hello again! hello\"\n",
    "\n",
    "# Code 1: Count unique words\n",
    "unique_words = set(speech.split())\n",
    "print(\"Unique words:\", len(unique_words))\n",
    "print(\"Unique words:\", unique_words)\n",
    "\n",
    "# Code 2: Count total words\n",
    "total_words = speech.split()\n",
    "print(\"Total words:\", len(total_words))\n",
    "print(\"Total words:\", total_words)"
   ]
  },
  {
   "cell_type": "code",
   "execution_count": 11,
   "metadata": {},
   "outputs": [
    {
     "data": {
      "text/plain": [
       "{'I', 'and', 'cats', 'dogs', 'like'}"
      ]
     },
     "execution_count": 11,
     "metadata": {},
     "output_type": "execute_result"
    }
   ],
   "source": [
    "D1 = \"I like cats\"\n",
    "D2 = \"I like dogs\"\n",
    "D3 = \"I like cats and dogs\"\n",
    "\n",
    "# Code 3: Create a dictionary that maps words to integers\n",
    "words = set(D1.split() + D2.split() + D3.split())\n",
    "\n",
    "words"
   ]
  },
  {
   "cell_type": "code",
   "execution_count": 12,
   "metadata": {},
   "outputs": [
    {
     "ename": "ImportError",
     "evalue": "Unable to import required dependencies:\npytz: No module named 'pytz'",
     "output_type": "error",
     "traceback": [
      "\u001b[0;31m---------------------------------------------------------------------------\u001b[0m",
      "\u001b[0;31mImportError\u001b[0m                               Traceback (most recent call last)",
      "Cell \u001b[0;32mIn[12], line 1\u001b[0m\n\u001b[0;32m----> 1\u001b[0m \u001b[38;5;28;01mimport\u001b[39;00m \u001b[38;5;21;01mpandas\u001b[39;00m \u001b[38;5;28;01mas\u001b[39;00m \u001b[38;5;21;01mpd\u001b[39;00m\n\u001b[1;32m      2\u001b[0m \u001b[38;5;28;01mfrom\u001b[39;00m \u001b[38;5;21;01msklearn\u001b[39;00m\u001b[38;5;21;01m.\u001b[39;00m\u001b[38;5;21;01mpreprocessing\u001b[39;00m \u001b[38;5;28;01mimport\u001b[39;00m OneHotEncoder\n\u001b[1;32m      4\u001b[0m \u001b[38;5;66;03m# Create a sample dataset\u001b[39;00m\n",
      "File \u001b[0;32m~/.local/lib/python3.10/site-packages/pandas/__init__.py:19\u001b[0m\n\u001b[1;32m     16\u001b[0m         _missing_dependencies\u001b[38;5;241m.\u001b[39mappend(\u001b[38;5;124mf\u001b[39m\u001b[38;5;124m\"\u001b[39m\u001b[38;5;132;01m{\u001b[39;00m_dependency\u001b[38;5;132;01m}\u001b[39;00m\u001b[38;5;124m: \u001b[39m\u001b[38;5;132;01m{\u001b[39;00m_e\u001b[38;5;132;01m}\u001b[39;00m\u001b[38;5;124m\"\u001b[39m)\n\u001b[1;32m     18\u001b[0m \u001b[38;5;28;01mif\u001b[39;00m _missing_dependencies:  \u001b[38;5;66;03m# pragma: no cover\u001b[39;00m\n\u001b[0;32m---> 19\u001b[0m     \u001b[38;5;28;01mraise\u001b[39;00m \u001b[38;5;167;01mImportError\u001b[39;00m(\n\u001b[1;32m     20\u001b[0m         \u001b[38;5;124m\"\u001b[39m\u001b[38;5;124mUnable to import required dependencies:\u001b[39m\u001b[38;5;130;01m\\n\u001b[39;00m\u001b[38;5;124m\"\u001b[39m \u001b[38;5;241m+\u001b[39m \u001b[38;5;124m\"\u001b[39m\u001b[38;5;130;01m\\n\u001b[39;00m\u001b[38;5;124m\"\u001b[39m\u001b[38;5;241m.\u001b[39mjoin(_missing_dependencies)\n\u001b[1;32m     21\u001b[0m     )\n\u001b[1;32m     22\u001b[0m \u001b[38;5;28;01mdel\u001b[39;00m _hard_dependencies, _dependency, _missing_dependencies\n\u001b[1;32m     24\u001b[0m \u001b[38;5;28;01mtry\u001b[39;00m:\n\u001b[1;32m     25\u001b[0m     \u001b[38;5;66;03m# numpy compat\u001b[39;00m\n",
      "\u001b[0;31mImportError\u001b[0m: Unable to import required dependencies:\npytz: No module named 'pytz'"
     ]
    }
   ],
   "source": [
    "import pandas as pd\n",
    "from sklearn.preprocessing import OneHotEncoder\n",
    "\n",
    "# Create a sample dataset\n",
    "data = {'Category': ['A', 'B', 'A', 'C', 'B', 'A', 'B', 'C', 'A', 'B']}\n",
    "df = pd.DataFrame(data)\n",
    "\n",
    "# One-hot encode the 'Category' column\n",
    "ohe = OneHotEncoder(sparse=False)\n",
    "ohe_array = ohe.fit_transform(df[['Category']])\n",
    "\n",
    "# Convert the array to a DataFrame\n",
    "ohe_df = pd.DataFrame(ohe_array, columns=ohe.get_feature_names_out())\n",
    "\n",
    "print(ohe_df)"
   ]
  },
  {
   "cell_type": "code",
   "execution_count": 15,
   "metadata": {},
   "outputs": [
    {
     "ename": "TypeError",
     "evalue": "OneHotEncoder.__init__() got an unexpected keyword argument 'sparse'",
     "output_type": "error",
     "traceback": [
      "\u001b[0;31m---------------------------------------------------------------------------\u001b[0m",
      "\u001b[0;31mTypeError\u001b[0m                                 Traceback (most recent call last)",
      "Cell \u001b[0;32mIn[15], line 9\u001b[0m\n\u001b[1;32m      6\u001b[0m df \u001b[38;5;241m=\u001b[39m pd\u001b[38;5;241m.\u001b[39mDataFrame(data)\n\u001b[1;32m      8\u001b[0m \u001b[38;5;66;03m# One-hot encode the 'Category' column\u001b[39;00m\n\u001b[0;32m----> 9\u001b[0m ohe \u001b[38;5;241m=\u001b[39m \u001b[43mOneHotEncoder\u001b[49m\u001b[43m(\u001b[49m\u001b[43msparse\u001b[49m\u001b[38;5;241;43m=\u001b[39;49m\u001b[38;5;28;43;01mFalse\u001b[39;49;00m\u001b[43m)\u001b[49m\n\u001b[1;32m     10\u001b[0m ohe_array \u001b[38;5;241m=\u001b[39m ohe\u001b[38;5;241m.\u001b[39mfit_transform(df[[\u001b[38;5;124m'\u001b[39m\u001b[38;5;124mCategory\u001b[39m\u001b[38;5;124m'\u001b[39m]])\n\u001b[1;32m     12\u001b[0m \u001b[38;5;66;03m# Convert the array to a DataFrame\u001b[39;00m\n",
      "\u001b[0;31mTypeError\u001b[0m: OneHotEncoder.__init__() got an unexpected keyword argument 'sparse'"
     ]
    }
   ],
   "source": [
    "import pandas as pd\n",
    "from sklearn.preprocessing import OneHotEncoder\n",
    "\n",
    "# Create a sample dataset\n",
    "data = {'Category': ['A', 'B', 'A', 'C', 'B', 'A', 'B', 'C', 'A', 'B']}\n",
    "df = pd.DataFrame(data)\n",
    "\n",
    "# One-hot encode the 'Category' column\n",
    "ohe = OneHotEncoder(sparse=False)\n",
    "ohe_array = ohe.fit_transform(df[['Category']])\n",
    "\n",
    "# Convert the array to a DataFrame\n",
    "ohe_df = pd.DataFrame(ohe_array, columns=ohe.get_feature_names_out())\n",
    "\n",
    "print(ohe_df)"
   ]
  },
  {
   "cell_type": "code",
   "execution_count": null,
   "metadata": {},
   "outputs": [],
   "source": []
  }
 ],
 "metadata": {
  "kernelspec": {
   "display_name": "nlp",
   "language": "python",
   "name": "python3"
  },
  "language_info": {
   "codemirror_mode": {
    "name": "ipython",
    "version": 3
   },
   "file_extension": ".py",
   "mimetype": "text/x-python",
   "name": "python",
   "nbconvert_exporter": "python",
   "pygments_lexer": "ipython3",
   "version": "3.10.14"
  }
 },
 "nbformat": 4,
 "nbformat_minor": 2
}
