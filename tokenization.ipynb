{
 "cells": [
  {
   "cell_type": "code",
   "execution_count": 1,
   "metadata": {},
   "outputs": [],
   "source": [
    "import nltk"
   ]
  },
  {
   "cell_type": "code",
   "execution_count": 2,
   "metadata": {},
   "outputs": [],
   "source": [
    "corpus = \"\"\"\n",
    "Sri Lanka's documented history goes back 3,000 years, with evidence of prehistoric human settlements dating back 125,000 years.[14] The earliest known Buddhist writings of Sri Lanka, known collectively as the Pāli canon, date to the fourth Buddhist council, which took place in 29 BCE.[15][16] Also called the Pearl of the Indian Ocean, or the Granary of the East, Sri Lanka's geographic location and deep harbours have made it of great strategic importance, from the earliest days of the ancient Silk Road trade route to today's so-called maritime Silk Road.[17][18][19] Because its location made it a major trading hub, it was already known to both East Asians and Europeans as long ago as the Anuradhapura period. During a period of great political crisis in the Kingdom of Kotte, the Portuguese arrived in Sri Lanka and sought to control its maritime trade, with a part of Sri Lanka subsequently becoming a Portuguese possession. After the Sinhalese-Portuguese war, the Dutch Empire and the Kingdom of Kandy took control of those areas. The Dutch possessions were then taken by the British, who later extended their control over the whole island, colonising it from 1815 to 1948. A national movement for political independence arose in the early 20th century, and in 1948, Ceylon became a dominion. It was succeeded by the republic of Sri Lanka in 1972. Sri Lanka's more recent history was marred by a 26-year civil war, which began in 1983 and ended in 2009, when the Sri Lanka Armed Forces defeated the Liberation Tigers of Tamil Eelam.[20]\n",
    "\"\"\""
   ]
  },
  {
   "cell_type": "code",
   "execution_count": 3,
   "metadata": {},
   "outputs": [
    {
     "name": "stdout",
     "output_type": "stream",
     "text": [
      "\n",
      "Sri Lanka's documented history goes back 3,000 years, with evidence of prehistoric human settlements dating back 125,000 years.[14] The earliest known Buddhist writings of Sri Lanka, known collectively as the Pāli canon, date to the fourth Buddhist council, which took place in 29 BCE.[15][16] Also called the Pearl of the Indian Ocean, or the Granary of the East, Sri Lanka's geographic location and deep harbours have made it of great strategic importance, from the earliest days of the ancient Silk Road trade route to today's so-called maritime Silk Road.[17][18][19] Because its location made it a major trading hub, it was already known to both East Asians and Europeans as long ago as the Anuradhapura period. During a period of great political crisis in the Kingdom of Kotte, the Portuguese arrived in Sri Lanka and sought to control its maritime trade, with a part of Sri Lanka subsequently becoming a Portuguese possession. After the Sinhalese-Portuguese war, the Dutch Empire and the Kingdom of Kandy took control of those areas. The Dutch possessions were then taken by the British, who later extended their control over the whole island, colonising it from 1815 to 1948. A national movement for political independence arose in the early 20th century, and in 1948, Ceylon became a dominion. It was succeeded by the republic of Sri Lanka in 1972. Sri Lanka's more recent history was marred by a 26-year civil war, which began in 1983 and ended in 2009, when the Sri Lanka Armed Forces defeated the Liberation Tigers of Tamil Eelam.[20]\n",
      "\n"
     ]
    }
   ],
   "source": [
    "print(corpus)"
   ]
  },
  {
   "cell_type": "code",
   "execution_count": 4,
   "metadata": {},
   "outputs": [
    {
     "name": "stdout",
     "output_type": "stream",
     "text": [
      "[\"\\nSri Lanka's documented history goes back 3,000 years, with evidence of prehistoric human settlements dating back 125,000 years.\", '[14] The earliest known Buddhist writings of Sri Lanka, known collectively as the Pāli canon, date to the fourth Buddhist council, which took place in 29 BCE.', \"[15][16] Also called the Pearl of the Indian Ocean, or the Granary of the East, Sri Lanka's geographic location and deep harbours have made it of great strategic importance, from the earliest days of the ancient Silk Road trade route to today's so-called maritime Silk Road.\", '[17][18][19] Because its location made it a major trading hub, it was already known to both East Asians and Europeans as long ago as the Anuradhapura period.', 'During a period of great political crisis in the Kingdom of Kotte, the Portuguese arrived in Sri Lanka and sought to control its maritime trade, with a part of Sri Lanka subsequently becoming a Portuguese possession.', 'After the Sinhalese-Portuguese war, the Dutch Empire and the Kingdom of Kandy took control of those areas.', 'The Dutch possessions were then taken by the British, who later extended their control over the whole island, colonising it from 1815 to 1948.', 'A national movement for political independence arose in the early 20th century, and in 1948, Ceylon became a dominion.', 'It was succeeded by the republic of Sri Lanka in 1972.', \"Sri Lanka's more recent history was marred by a 26-year civil war, which began in 1983 and ended in 2009, when the Sri Lanka Armed Forces defeated the Liberation Tigers of Tamil Eelam.\", '[20]']\n"
     ]
    }
   ],
   "source": [
    "# Tokenizing the corpus into sentences \n",
    "\n",
    "from nltk.tokenize import sent_tokenize\n",
    "sentences = sent_tokenize(corpus)\n",
    "print(sentences)"
   ]
  },
  {
   "cell_type": "code",
   "execution_count": 5,
   "metadata": {},
   "outputs": [
    {
     "name": "stdout",
     "output_type": "stream",
     "text": [
      "242\n"
     ]
    }
   ],
   "source": [
    "# Tokenizing the corpus into words\n",
    "\n",
    "from nltk.tokenize import word_tokenize\n",
    "tokens = word_tokenize(corpus)\n",
    "tokens = [word.lower() for word in tokens if word.isalpha()]\n",
    "print(len(tokens))"
   ]
  },
  {
   "cell_type": "code",
   "execution_count": 6,
   "metadata": {},
   "outputs": [
    {
     "name": "stdout",
     "output_type": "stream",
     "text": [
      "251\n"
     ]
    }
   ],
   "source": [
    "# Tokenizing the corpus into words using wordpunct_tokenize\n",
    "\n",
    "from nltk.tokenize import wordpunct_tokenize\n",
    "tokens = wordpunct_tokenize(corpus)\n",
    "tokens = [word.lower() for word in tokens if word.isalpha()]\n",
    "print(len(tokens))"
   ]
  },
  {
   "cell_type": "code",
   "execution_count": 7,
   "metadata": {},
   "outputs": [
    {
     "name": "stdout",
     "output_type": "stream",
     "text": [
      "234\n"
     ]
    }
   ],
   "source": [
    "# Tokenizing the corpus into words using TreebankWordTokenizer\n",
    "\n",
    "# diffrent from word_tokenize, this tokenizer is based on Penn Treebank corpus and is able to tokenize words in a better way\n",
    "# for example, it can tokenize \"can't\" into \"ca\" and \"n't\" which is more meaningful than \"can\" and \"t\" in word_tokenize method.\n",
    "\n",
    "\n",
    "from nltk.tokenize import treebank\n",
    "\n",
    "tokens = treebank.TreebankWordTokenizer().tokenize(corpus)\n",
    "tokens = [word.lower() for word in tokens if word.isalpha()]\n",
    "print(len(tokens))"
   ]
  },
  {
   "cell_type": "code",
   "execution_count": null,
   "metadata": {},
   "outputs": [],
   "source": []
  }
 ],
 "metadata": {
  "kernelspec": {
   "display_name": "nlp",
   "language": "python",
   "name": "python3"
  },
  "language_info": {
   "codemirror_mode": {
    "name": "ipython",
    "version": 3
   },
   "file_extension": ".py",
   "mimetype": "text/x-python",
   "name": "python",
   "nbconvert_exporter": "python",
   "pygments_lexer": "ipython3",
   "version": "3.10.14"
  }
 },
 "nbformat": 4,
 "nbformat_minor": 2
}
