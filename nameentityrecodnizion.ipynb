{
 "cells": [
  {
   "cell_type": "code",
   "execution_count": 1,
   "metadata": {},
   "outputs": [],
   "source": [
    "import nltk"
   ]
  },
  {
   "cell_type": "code",
   "execution_count": 14,
   "metadata": {},
   "outputs": [],
   "source": [
    "speach = \"\"\"\n",
    "Here is a speech about Dr. A.P.J. Abdul Kalam:\n",
    "\n",
    "Ladies and gentlemen, today I want to talk to you about a truly inspirational figure, Dr. A.P.J. Abdul Kalam, the 11th President of India. Born on October 15, 1931, in Rameswaram, Tamil Nadu, Dr. Kalam was a man of great vision, passion, and dedication. He was a renowned aerospace scientist, statesman, and a true leader who inspired millions of people around the world.\n",
    "\n",
    "Dr. Kalam's life is a testament to the power of hard work, perseverance, and determination. From a humble beginning, he rose to become one of the most respected and beloved leaders of our time. His contributions to the development of India's missile program, his leadership in making India a nuclear power, and his vision for a developed India are just a few examples of his outstanding achievements.\n",
    "\n",
    "But Dr. Kalam was more than just a scientist or a politician. He was a true patriot, a passionate educator, and a champion of the youth. He believed in the potential of every individual, especially the young, to make a difference in the world. He inspired us to dream big, to work hard, and to strive for excellence in everything we do.\n",
    "\n",
    "\"\"\""
   ]
  },
  {
   "cell_type": "code",
   "execution_count": 15,
   "metadata": {},
   "outputs": [
    {
     "name": "stdout",
     "output_type": "stream",
     "text": [
      "\n",
      "Here is a speech about Dr. A.P.J. Abdul Kalam:\n",
      "\n",
      "Ladies and gentlemen, today I want to talk to you about a truly inspirational figure, Dr. A.P.J. Abdul Kalam, the 11th President of India. Born on October 15, 1931, in Rameswaram, Tamil Nadu, Dr. Kalam was a man of great vision, passion, and dedication. He was a renowned aerospace scientist, statesman, and a true leader who inspired millions of people around the world.\n",
      "\n",
      "Dr. Kalam's life is a testament to the power of hard work, perseverance, and determination. From a humble beginning, he rose to become one of the most respected and beloved leaders of our time. His contributions to the development of India's missile program, his leadership in making India a nuclear power, and his vision for a developed India are just a few examples of his outstanding achievements.\n",
      "\n",
      "But Dr. Kalam was more than just a scientist or a politician. He was a true patriot, a passionate educator, and a champion of the youth. He believed in the potential of every individual, especially the young, to make a difference in the world. He inspired us to dream big, to work hard, and to strive for excellence in everything we do.\n",
      "\n",
      "\n"
     ]
    }
   ],
   "source": [
    "print(speach)"
   ]
  },
  {
   "cell_type": "code",
   "execution_count": 16,
   "metadata": {},
   "outputs": [],
   "source": [
    "from nltk.tokenize import word_tokenize"
   ]
  },
  {
   "cell_type": "code",
   "execution_count": 17,
   "metadata": {},
   "outputs": [
    {
     "name": "stdout",
     "output_type": "stream",
     "text": [
      "['Here', 'is', 'a', 'speech', 'about', 'Dr.', 'A.P.J', '.', 'Abdul', 'Kalam', ':', 'Ladies', 'and', 'gentlemen', ',', 'today', 'I', 'want', 'to', 'talk', 'to', 'you', 'about', 'a', 'truly', 'inspirational', 'figure', ',', 'Dr.', 'A.P.J', '.', 'Abdul', 'Kalam', ',', 'the', '11th', 'President', 'of', 'India', '.', 'Born', 'on', 'October', '15', ',', '1931', ',', 'in', 'Rameswaram', ',', 'Tamil', 'Nadu', ',', 'Dr.', 'Kalam', 'was', 'a', 'man', 'of', 'great', 'vision', ',', 'passion', ',', 'and', 'dedication', '.', 'He', 'was', 'a', 'renowned', 'aerospace', 'scientist', ',', 'statesman', ',', 'and', 'a', 'true', 'leader', 'who', 'inspired', 'millions', 'of', 'people', 'around', 'the', 'world', '.', 'Dr.', 'Kalam', \"'s\", 'life', 'is', 'a', 'testament', 'to', 'the', 'power', 'of', 'hard', 'work', ',', 'perseverance', ',', 'and', 'determination', '.', 'From', 'a', 'humble', 'beginning', ',', 'he', 'rose', 'to', 'become', 'one', 'of', 'the', 'most', 'respected', 'and', 'beloved', 'leaders', 'of', 'our', 'time', '.', 'His', 'contributions', 'to', 'the', 'development', 'of', 'India', \"'s\", 'missile', 'program', ',', 'his', 'leadership', 'in', 'making', 'India', 'a', 'nuclear', 'power', ',', 'and', 'his', 'vision', 'for', 'a', 'developed', 'India', 'are', 'just', 'a', 'few', 'examples', 'of', 'his', 'outstanding', 'achievements', '.', 'But', 'Dr.', 'Kalam', 'was', 'more', 'than', 'just', 'a', 'scientist', 'or', 'a', 'politician', '.', 'He', 'was', 'a', 'true', 'patriot', ',', 'a', 'passionate', 'educator', ',', 'and', 'a', 'champion', 'of', 'the', 'youth', '.', 'He', 'believed', 'in', 'the', 'potential', 'of', 'every', 'individual', ',', 'especially', 'the', 'young', ',', 'to', 'make', 'a', 'difference', 'in', 'the', 'world', '.', 'He', 'inspired', 'us', 'to', 'dream', 'big', ',', 'to', 'work', 'hard', ',', 'and', 'to', 'strive', 'for', 'excellence', 'in', 'everything', 'we', 'do', '.']\n"
     ]
    }
   ],
   "source": [
    "words = word_tokenize(speach)\n",
    "print(words)"
   ]
  },
  {
   "cell_type": "code",
   "execution_count": 18,
   "metadata": {},
   "outputs": [
    {
     "name": "stdout",
     "output_type": "stream",
     "text": [
      "[('Here', 'RB'), ('is', 'VBZ'), ('a', 'DT'), ('speech', 'NN'), ('about', 'IN'), ('Dr.', 'NNP'), ('A.P.J', 'NNP'), ('.', '.'), ('Abdul', 'NNP'), ('Kalam', 'NNP'), (':', ':'), ('Ladies', 'NNS'), ('and', 'CC'), ('gentlemen', 'NNS'), (',', ','), ('today', 'NN'), ('I', 'PRP'), ('want', 'VBP'), ('to', 'TO'), ('talk', 'VB'), ('to', 'TO'), ('you', 'PRP'), ('about', 'IN'), ('a', 'DT'), ('truly', 'JJ'), ('inspirational', 'JJ'), ('figure', 'NN'), (',', ','), ('Dr.', 'NNP'), ('A.P.J', 'NNP'), ('.', '.'), ('Abdul', 'NNP'), ('Kalam', 'NNP'), (',', ','), ('the', 'DT'), ('11th', 'CD'), ('President', 'NNP'), ('of', 'IN'), ('India', 'NNP'), ('.', '.'), ('Born', 'NNP'), ('on', 'IN'), ('October', 'NNP'), ('15', 'CD'), (',', ','), ('1931', 'CD'), (',', ','), ('in', 'IN'), ('Rameswaram', 'NNP'), (',', ','), ('Tamil', 'NNP'), ('Nadu', 'NNP'), (',', ','), ('Dr.', 'NNP'), ('Kalam', 'NNP'), ('was', 'VBD'), ('a', 'DT'), ('man', 'NN'), ('of', 'IN'), ('great', 'JJ'), ('vision', 'NN'), (',', ','), ('passion', 'NN'), (',', ','), ('and', 'CC'), ('dedication', 'NN'), ('.', '.'), ('He', 'PRP'), ('was', 'VBD'), ('a', 'DT'), ('renowned', 'JJ'), ('aerospace', 'NN'), ('scientist', 'NN'), (',', ','), ('statesman', 'NN'), (',', ','), ('and', 'CC'), ('a', 'DT'), ('true', 'JJ'), ('leader', 'NN'), ('who', 'WP'), ('inspired', 'VBD'), ('millions', 'NNS'), ('of', 'IN'), ('people', 'NNS'), ('around', 'IN'), ('the', 'DT'), ('world', 'NN'), ('.', '.'), ('Dr.', 'NNP'), ('Kalam', 'NNP'), (\"'s\", 'POS'), ('life', 'NN'), ('is', 'VBZ'), ('a', 'DT'), ('testament', 'NN'), ('to', 'TO'), ('the', 'DT'), ('power', 'NN'), ('of', 'IN'), ('hard', 'JJ'), ('work', 'NN'), (',', ','), ('perseverance', 'NN'), (',', ','), ('and', 'CC'), ('determination', 'NN'), ('.', '.'), ('From', 'IN'), ('a', 'DT'), ('humble', 'JJ'), ('beginning', 'NN'), (',', ','), ('he', 'PRP'), ('rose', 'VBD'), ('to', 'TO'), ('become', 'VB'), ('one', 'CD'), ('of', 'IN'), ('the', 'DT'), ('most', 'RBS'), ('respected', 'JJ'), ('and', 'CC'), ('beloved', 'JJ'), ('leaders', 'NNS'), ('of', 'IN'), ('our', 'PRP$'), ('time', 'NN'), ('.', '.'), ('His', 'PRP$'), ('contributions', 'NNS'), ('to', 'TO'), ('the', 'DT'), ('development', 'NN'), ('of', 'IN'), ('India', 'NNP'), (\"'s\", 'POS'), ('missile', 'NN'), ('program', 'NN'), (',', ','), ('his', 'PRP$'), ('leadership', 'NN'), ('in', 'IN'), ('making', 'VBG'), ('India', 'NNP'), ('a', 'DT'), ('nuclear', 'JJ'), ('power', 'NN'), (',', ','), ('and', 'CC'), ('his', 'PRP$'), ('vision', 'NN'), ('for', 'IN'), ('a', 'DT'), ('developed', 'JJ'), ('India', 'NNP'), ('are', 'VBP'), ('just', 'RB'), ('a', 'DT'), ('few', 'JJ'), ('examples', 'NNS'), ('of', 'IN'), ('his', 'PRP$'), ('outstanding', 'JJ'), ('achievements', 'NNS'), ('.', '.'), ('But', 'CC'), ('Dr.', 'NNP'), ('Kalam', 'NNP'), ('was', 'VBD'), ('more', 'JJR'), ('than', 'IN'), ('just', 'RB'), ('a', 'DT'), ('scientist', 'NN'), ('or', 'CC'), ('a', 'DT'), ('politician', 'NN'), ('.', '.'), ('He', 'PRP'), ('was', 'VBD'), ('a', 'DT'), ('true', 'JJ'), ('patriot', 'NN'), (',', ','), ('a', 'DT'), ('passionate', 'NN'), ('educator', 'NN'), (',', ','), ('and', 'CC'), ('a', 'DT'), ('champion', 'NN'), ('of', 'IN'), ('the', 'DT'), ('youth', 'NN'), ('.', '.'), ('He', 'PRP'), ('believed', 'VBD'), ('in', 'IN'), ('the', 'DT'), ('potential', 'NN'), ('of', 'IN'), ('every', 'DT'), ('individual', 'NN'), (',', ','), ('especially', 'RB'), ('the', 'DT'), ('young', 'JJ'), (',', ','), ('to', 'TO'), ('make', 'VB'), ('a', 'DT'), ('difference', 'NN'), ('in', 'IN'), ('the', 'DT'), ('world', 'NN'), ('.', '.'), ('He', 'PRP'), ('inspired', 'VBD'), ('us', 'PRP'), ('to', 'TO'), ('dream', 'VB'), ('big', 'JJ'), (',', ','), ('to', 'TO'), ('work', 'VB'), ('hard', 'RB'), (',', ','), ('and', 'CC'), ('to', 'TO'), ('strive', 'VB'), ('for', 'IN'), ('excellence', 'NN'), ('in', 'IN'), ('everything', 'NN'), ('we', 'PRP'), ('do', 'VBP'), ('.', '.')]\n"
     ]
    }
   ],
   "source": [
    "# post tagging\n",
    "from nltk import pos_tag\n",
    "tags = pos_tag(words)\n",
    "print(tags)"
   ]
  },
  {
   "cell_type": "code",
   "execution_count": 19,
   "metadata": {},
   "outputs": [
    {
     "name": "stderr",
     "output_type": "stream",
     "text": [
      "[nltk_data] Downloading package maxent_ne_chunker to\n",
      "[nltk_data]     /home/qdr/nltk_data...\n",
      "[nltk_data]   Package maxent_ne_chunker is already up-to-date!\n"
     ]
    },
    {
     "data": {
      "text/plain": [
       "True"
      ]
     },
     "execution_count": 19,
     "metadata": {},
     "output_type": "execute_result"
    }
   ],
   "source": [
    "nltk.download('maxent_ne_chunker')"
   ]
  },
  {
   "cell_type": "code",
   "execution_count": 20,
   "metadata": {},
   "outputs": [
    {
     "name": "stderr",
     "output_type": "stream",
     "text": [
      "[nltk_data] Downloading package words to /home/qdr/nltk_data...\n",
      "[nltk_data]   Package words is already up-to-date!\n"
     ]
    },
    {
     "data": {
      "text/plain": [
       "True"
      ]
     },
     "execution_count": 20,
     "metadata": {},
     "output_type": "execute_result"
    }
   ],
   "source": [
    "nltk.download('words')"
   ]
  },
  {
   "cell_type": "code",
   "execution_count": 21,
   "metadata": {},
   "outputs": [
    {
     "name": "stdout",
     "output_type": "stream",
     "text": [
      "None\n"
     ]
    }
   ],
   "source": [
    "# named entity recognition\n",
    "from nltk import ne_chunk\n",
    "\n",
    "named_entities = ne_chunk(tags)\n",
    "print(named_entities.draw())"
   ]
  },
  {
   "cell_type": "code",
   "execution_count": null,
   "metadata": {},
   "outputs": [],
   "source": []
  }
 ],
 "metadata": {
  "kernelspec": {
   "display_name": "nlp",
   "language": "python",
   "name": "python3"
  },
  "language_info": {
   "codemirror_mode": {
    "name": "ipython",
    "version": 3
   },
   "file_extension": ".py",
   "mimetype": "text/x-python",
   "name": "python",
   "nbconvert_exporter": "python",
   "pygments_lexer": "ipython3",
   "version": "3.10.14"
  }
 },
 "nbformat": 4,
 "nbformat_minor": 2
}
