{
 "cells": [
  {
   "cell_type": "markdown",
   "metadata": {},
   "source": [
    "# Stemming"
   ]
  },
  {
   "cell_type": "markdown",
   "metadata": {},
   "source": [
    "disadvantage of stemming is that it can generate words that are not correct words\n",
    "for example, 'happi' is not a correct word, but stemming happi will give 'happi'\n",
    "stemming is not aware of the context of the word, so it can generate incorrect words"
   ]
  },
  {
   "cell_type": "code",
   "execution_count": 12,
   "metadata": {},
   "outputs": [
    {
     "name": "stdout",
     "output_type": "stream",
     "text": [
      "run -> run\n",
      "runner -> runner\n",
      "running -> run\n",
      "ran -> ran\n",
      "runs -> run\n",
      "easily -> easili\n",
      "fairly -> fairli\n",
      "fairness -> fair\n",
      "generous -> gener\n",
      "generation -> gener\n",
      "generate -> gener\n",
      "generously -> gener\n",
      "generousness -> gener\n",
      "generative -> gener\n"
     ]
    }
   ],
   "source": [
    "# stemming is helping to reduce the words to their root form or base form\n",
    "\n",
    "words = ['run', 'runner', 'running', 'ran', 'runs', 'easily', 'fairly', 'fairness', 'generous', 'generation', 'generate', 'generously', 'generousness', 'generative']\n",
    "\n",
    "from nltk.stem import PorterStemmer\n",
    "ps = PorterStemmer()\n",
    "\n",
    "for word in words:\n",
    "    print(f\"{word} -> {ps.stem(word)}\")"
   ]
  },
  {
   "cell_type": "code",
   "execution_count": 13,
   "metadata": {},
   "outputs": [
    {
     "name": "stdout",
     "output_type": "stream",
     "text": [
      "happi\n"
     ]
    }
   ],
   "source": [
    "print(ps.stem('happiness'))"
   ]
  },
  {
   "cell_type": "markdown",
   "metadata": {},
   "source": [
    "### RegexpStemming"
   ]
  },
  {
   "cell_type": "code",
   "execution_count": 14,
   "metadata": {},
   "outputs": [
    {
     "name": "stdout",
     "output_type": "stream",
     "text": [
      "run -> run\n",
      "runner -> runner\n",
      "running -> runn\n",
      "ran -> ran\n",
      "runs -> run\n",
      "easily -> easily\n",
      "fairly -> fairly\n",
      "fairness -> fairnes\n",
      "generous -> generou\n",
      "generation -> generation\n",
      "generate -> generate\n",
      "generously -> generously\n",
      "generousness -> generousnes\n",
      "generative -> generative\n"
     ]
    }
   ],
   "source": [
    "from nltk.stem import RegexpStemmer\n",
    "rs = RegexpStemmer('ing$|s$|ed$', min=4) # min=4 is the minimum length of the word to be stemmed, regex is used to match the words\n",
    "for word in words:\n",
    "    print(f\"{word} -> {rs.stem(word)}\")"
   ]
  },
  {
   "cell_type": "code",
   "execution_count": 15,
   "metadata": {},
   "outputs": [
    {
     "name": "stdout",
     "output_type": "stream",
     "text": [
      "run -> run\n",
      "runner -> runner\n",
      "running -> run\n",
      "ran -> ran\n",
      "runs -> run\n",
      "easily -> easili\n",
      "fairly -> fair\n",
      "fairness -> fair\n",
      "generous -> generous\n",
      "generation -> generat\n",
      "generate -> generat\n",
      "generously -> generous\n",
      "generousness -> generous\n",
      "generative -> generat\n"
     ]
    }
   ],
   "source": [
    "# snowball stemmer is more advanced than porter stemmer\n",
    "from nltk.stem import SnowballStemmer\n",
    "ss = SnowballStemmer('english')\n",
    "for word in words:\n",
    "    print(f\"{word} -> {ss.stem(word)}\")"
   ]
  },
  {
   "cell_type": "code",
   "execution_count": null,
   "metadata": {},
   "outputs": [],
   "source": []
  },
  {
   "cell_type": "code",
   "execution_count": null,
   "metadata": {},
   "outputs": [],
   "source": []
  }
 ],
 "metadata": {
  "kernelspec": {
   "display_name": "nlp",
   "language": "python",
   "name": "python3"
  },
  "language_info": {
   "codemirror_mode": {
    "name": "ipython",
    "version": 3
   },
   "file_extension": ".py",
   "mimetype": "text/x-python",
   "name": "python",
   "nbconvert_exporter": "python",
   "pygments_lexer": "ipython3",
   "version": "3.10.14"
  }
 },
 "nbformat": 4,
 "nbformat_minor": 2
}
