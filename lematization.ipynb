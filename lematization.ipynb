{
 "cells": [
  {
   "cell_type": "markdown",
   "metadata": {},
   "source": [
    "# Lematization"
   ]
  },
  {
   "cell_type": "code",
   "execution_count": 2,
   "metadata": {},
   "outputs": [
    {
     "name": "stderr",
     "output_type": "stream",
     "text": [
      "[nltk_data] Downloading package wordnet to /home/qdr/nltk_data...\n",
      "[nltk_data]   Package wordnet is already up-to-date!\n"
     ]
    },
    {
     "data": {
      "text/plain": [
       "True"
      ]
     },
     "execution_count": 2,
     "metadata": {},
     "output_type": "execute_result"
    }
   ],
   "source": [
    "import nltk\n",
    "nltk.download('wordnet')"
   ]
  },
  {
   "cell_type": "code",
   "execution_count": 3,
   "metadata": {},
   "outputs": [],
   "source": [
    "from nltk.stem import WordNetLemmatizer\n",
    "wordnet_lemmatizer = WordNetLemmatizer()"
   ]
  },
  {
   "cell_type": "code",
   "execution_count": 4,
   "metadata": {},
   "outputs": [
    {
     "name": "stdout",
     "output_type": "stream",
     "text": [
      "been had done language city mouse\n",
      "been had done languages cities mice\n",
      "been\n"
     ]
    }
   ],
   "source": [
    "# lemmitize a paragraph\n",
    "input_str = \"been had done languages cities mice\"\n",
    "input_str = input_str.split(\" \")\n",
    "lemmatized_words = [wordnet_lemmatizer.lemmatize(word) for word in input_str]\n",
    "print(\" \".join(lemmatized_words))\n",
    "# been had done language city mouse\n",
    "\n",
    "# lemmitize a sentence\n",
    "input_str = \"been had done languages cities mice\"\n",
    "lemmatized_words = wordnet_lemmatizer.lemmatize(input_str)\n",
    "print(lemmatized_words)\n",
    "# been had done languages city mouse\n",
    "\n",
    "# lemmitize a word\n",
    "input_str = \"been\"\n",
    "lemmatized_words = wordnet_lemmatizer.lemmatize(input_str)\n",
    "print(lemmatized_words)"
   ]
  },
  {
   "cell_type": "code",
   "execution_count": 17,
   "metadata": {},
   "outputs": [
    {
     "name": "stdout",
     "output_type": "stream",
     "text": [
      "running\n"
     ]
    }
   ],
   "source": [
    "# Lemmatize single word with POS\n",
    "print(wordnet_lemmatizer.lemmatize('running', pos='n'))"
   ]
  },
  {
   "cell_type": "code",
   "execution_count": 18,
   "metadata": {},
   "outputs": [],
   "source": [
    "words = ['run', 'runner', 'running', 'ran', 'runs', 'easily', 'fairly', 'fairness', 'generous', 'generation', 'generate', 'generously', 'generousness', 'generative']"
   ]
  },
  {
   "cell_type": "code",
   "execution_count": 20,
   "metadata": {},
   "outputs": [
    {
     "name": "stdout",
     "output_type": "stream",
     "text": [
      "run -> run\n",
      "runner -> runner\n",
      "running -> run\n",
      "ran -> run\n",
      "runs -> run\n",
      "easily -> easily\n",
      "fairly -> fairly\n",
      "fairness -> fairness\n",
      "generous -> generous\n",
      "generation -> generation\n",
      "generate -> generate\n",
      "generously -> generously\n",
      "generousness -> generousness\n",
      "generative -> generative\n"
     ]
    }
   ],
   "source": [
    "# Lemmatize single word without ADJ POS\n",
    "for word in words:\n",
    "    print(f\"{word} -> {wordnet_lemmatizer.lemmatize(word, pos='v')}\")"
   ]
  },
  {
   "cell_type": "code",
   "execution_count": null,
   "metadata": {},
   "outputs": [],
   "source": []
  }
 ],
 "metadata": {
  "kernelspec": {
   "display_name": "nlp",
   "language": "python",
   "name": "python3"
  },
  "language_info": {
   "codemirror_mode": {
    "name": "ipython",
    "version": 3
   },
   "file_extension": ".py",
   "mimetype": "text/x-python",
   "name": "python",
   "nbconvert_exporter": "python",
   "pygments_lexer": "ipython3",
   "version": "3.10.14"
  }
 },
 "nbformat": 4,
 "nbformat_minor": 2
}
