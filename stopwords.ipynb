{
 "cells": [
  {
   "cell_type": "markdown",
   "metadata": {},
   "source": [
    "# Stopwords"
   ]
  },
  {
   "cell_type": "code",
   "execution_count": 3,
   "metadata": {
    "vscode": {
     "languageId": "markdown"
    }
   },
   "outputs": [],
   "source": [
    "speach = \"\"\"\n",
    "Early Life\n",
    "APJ Abdul kalam came into this world on 15th October 1931, at a time when India was under British occupation. He was born to a Tamil Muslim family in Tamil Nadu. His father was a boat owner while his mother was a housewife. Furthermore, Kalam had five siblings and was the youngest of the lot.\n",
    "\n",
    "In school, Kalam was an average student but was still hardworking and bright. I think this certainly is a great motivation for all the average students out there. Being average, you must never ever underestimate yourself and continue doing the hard work.\n",
    "\n",
    "An Illustrious Scientist\n",
    "In the year 1960, APJ Abdul Kalam’s graduation took place from Madras Institute of Technology. The association of Kalam took place with the Defence Research & Development Service (DRDS). Furthermore, he joined as a scientist at the Aeronautical Development Establishment of the Defence Research and Development Organisation. These were the beginning achievements of his prestigious career as a scientist.\n",
    "\n",
    "Big achievement for Kalam came when he was the project director at ISRO of India‘s first-ever Satellite Launch Vehicle (SLV- III). This satellite was responsible for the deployment of the Rohini satellite in 1980. Moreover, Kalam was highly influential in the development of Polar Satellite Launch Vehicle (PSLV) and SLV projects.\n",
    "\n",
    "Both projects were successful. Bringing enhancement in the reputation of Kalam. Furthermore, the development of ballistic missiles was possible because of the efforts of this man. Most noteworthy, Kalam earned the esteemed title of “The missile Man of India”.\n",
    "\n",
    "The Government of India became aware of the brilliance of this man and made him the Chief Executive of the Integrated Guided Missiles Development Program (IGMDP). Furthermore, this program was responsible for the research and development of Missiles. The achievements of this distinguished man didn’t stop there.\n",
    "\n",
    "More success was to come in the form of Agni and Prithvi missiles. Once again, Kalam was influential in the developments of these missiles. It was during his tenure in IGMDP that Kalam played an instrumental role in the developments of missiles like Agni and Prithvi. Moreover, Kamal was a key figure in the Pokhran II nuclear test.\n",
    "\n",
    "Get the Huge list of 100+ Speech Topics here\n",
    "\n",
    "President Of India\n",
    "The honor of being the 11th president of India went to APJ Abdul Kalam. This marked another tremendous feat in his already venerable career. This highly acclaimed personality became president after winning the 2002 presidential election by a massive margin.\n",
    "\n",
    "His Legacy\n",
    "Saying that Indian people love APJ Abdul Kalam would be a massive understatement. The Indian people have a huge affection for this man. Consequently, he was known as the People’s President. The man had to face only a few critics his entire life.\n",
    "\n",
    "The entire nation reacted to his death with grief. Kalam was a great asset to India. His unparalleled contributions in the field of science took India to new heights. Kalam’s presidency was characterized by peace and efficiency.\n",
    "\n",
    "Leaders keep on coming and going. Every once in awhile, we come across someone as pre-eminent as Kalam. His name will certainly go down in history as one of the greatest presidents that India has ever seen. Moreover, people will also remember him as a brilliant scientist. The man was a precious gem for each and every Indian.\n",
    "\"\"\""
   ]
  },
  {
   "cell_type": "code",
   "execution_count": 11,
   "metadata": {},
   "outputs": [],
   "source": [
    "import nltk"
   ]
  },
  {
   "cell_type": "code",
   "execution_count": 12,
   "metadata": {},
   "outputs": [
    {
     "name": "stderr",
     "output_type": "stream",
     "text": [
      "[nltk_data] Downloading package stopwords to /home/qdr/nltk_data...\n",
      "[nltk_data]   Package stopwords is already up-to-date!\n"
     ]
    },
    {
     "data": {
      "text/plain": [
       "True"
      ]
     },
     "execution_count": 12,
     "metadata": {},
     "output_type": "execute_result"
    }
   ],
   "source": [
    "from nltk.corpus import stopwords\n",
    "nltk.download('stopwords')"
   ]
  },
  {
   "cell_type": "code",
   "execution_count": 15,
   "metadata": {},
   "outputs": [
    {
     "name": "stdout",
     "output_type": "stream",
     "text": [
      "179\n"
     ]
    }
   ],
   "source": [
    "# Load the stop words\n",
    "stop_words = set(stopwords.words('english'))\n",
    "\n",
    "# Print the stop lenght words\n",
    "print(len(stop_words))"
   ]
  },
  {
   "cell_type": "code",
   "execution_count": 29,
   "metadata": {},
   "outputs": [
    {
     "name": "stdout",
     "output_type": "stream",
     "text": [
      "['i', 'me', 'my', 'myself', 'we', 'our', 'ours', 'ourselves', 'you', \"you're\", \"you've\", \"you'll\", \"you'd\", 'your', 'yours', 'yourself', 'yourselves', 'he', 'him', 'his', 'himself', 'she', \"she's\", 'her', 'hers', 'herself', 'it', \"it's\", 'its', 'itself', 'they', 'them', 'their', 'theirs', 'themselves', 'what', 'which', 'who', 'whom', 'this', 'that', \"that'll\", 'these', 'those', 'am', 'is', 'are', 'was', 'were', 'be', 'been', 'being', 'have', 'has', 'had', 'having', 'do', 'does', 'did', 'doing', 'a', 'an', 'the', 'and', 'but', 'if', 'or', 'because', 'as', 'until', 'while', 'of', 'at', 'by', 'for', 'with', 'about', 'against', 'between', 'into', 'through', 'during', 'before', 'after', 'above', 'below', 'to', 'from', 'up', 'down', 'in', 'out', 'on', 'off', 'over', 'under', 'again', 'further', 'then', 'once', 'here', 'there', 'when', 'where', 'why', 'how', 'all', 'any', 'both', 'each', 'few', 'more', 'most', 'other', 'some', 'such', 'no', 'nor', 'not', 'only', 'own', 'same', 'so', 'than', 'too', 'very', 's', 't', 'can', 'will', 'just', 'don', \"don't\", 'should', \"should've\", 'now', 'd', 'll', 'm', 'o', 're', 've', 'y', 'ain', 'aren', \"aren't\", 'couldn', \"couldn't\", 'didn', \"didn't\", 'doesn', \"doesn't\", 'hadn', \"hadn't\", 'hasn', \"hasn't\", 'haven', \"haven't\", 'isn', \"isn't\", 'ma', 'mightn', \"mightn't\", 'mustn', \"mustn't\", 'needn', \"needn't\", 'shan', \"shan't\", 'shouldn', \"shouldn't\", 'wasn', \"wasn't\", 'weren', \"weren't\", 'won', \"won't\", 'wouldn', \"wouldn't\"]\n",
      "179\n"
     ]
    }
   ],
   "source": [
    "# all lanuages stop words\n",
    "language = \"english\"\n",
    "if language in stopwords.fileids():\n",
    "    print(stopwords.words(language))\n",
    "    print(len(stopwords.words(language)))\n",
    "else:\n",
    "    print('No such language stop words found')"
   ]
  },
  {
   "cell_type": "code",
   "execution_count": 33,
   "metadata": {},
   "outputs": [
    {
     "name": "stdout",
     "output_type": "stream",
     "text": [
      "['\\nEarly Life\\nAPJ Abdul kalam came into this world on 15th October 1931, at a time when India was under British occupation.', 'He was born to a Tamil Muslim family in Tamil Nadu.', 'His father was a boat owner while his mother was a housewife.', 'Furthermore, Kalam had five siblings and was the youngest of the lot.', 'In school, Kalam was an average student but was still hardworking and bright.', 'I think this certainly is a great motivation for all the average students out there.', 'Being average, you must never ever underestimate yourself and continue doing the hard work.', 'An Illustrious Scientist\\nIn the year 1960, APJ Abdul Kalam’s graduation took place from Madras Institute of Technology.', 'The association of Kalam took place with the Defence Research & Development Service (DRDS).', 'Furthermore, he joined as a scientist at the Aeronautical Development Establishment of the Defence Research and Development Organisation.', 'These were the beginning achievements of his prestigious career as a scientist.', 'Big achievement for Kalam came when he was the project director at ISRO of India‘s first-ever Satellite Launch Vehicle (SLV- III).', 'This satellite was responsible for the deployment of the Rohini satellite in 1980.', 'Moreover, Kalam was highly influential in the development of Polar Satellite Launch Vehicle (PSLV) and SLV projects.', 'Both projects were successful.', 'Bringing enhancement in the reputation of Kalam.', 'Furthermore, the development of ballistic missiles was possible because of the efforts of this man.', 'Most noteworthy, Kalam earned the esteemed title of “The missile Man of India”.', 'The Government of India became aware of the brilliance of this man and made him the Chief Executive of the Integrated Guided Missiles Development Program (IGMDP).', 'Furthermore, this program was responsible for the research and development of Missiles.', 'The achievements of this distinguished man didn’t stop there.', 'More success was to come in the form of Agni and Prithvi missiles.', 'Once again, Kalam was influential in the developments of these missiles.', 'It was during his tenure in IGMDP that Kalam played an instrumental role in the developments of missiles like Agni and Prithvi.', 'Moreover, Kamal was a key figure in the Pokhran II nuclear test.', 'Get the Huge list of 100+ Speech Topics here\\n\\nPresident Of India\\nThe honor of being the 11th president of India went to APJ Abdul Kalam.', 'This marked another tremendous feat in his already venerable career.', 'This highly acclaimed personality became president after winning the 2002 presidential election by a massive margin.', 'His Legacy\\nSaying that Indian people love APJ Abdul Kalam would be a massive understatement.', 'The Indian people have a huge affection for this man.', 'Consequently, he was known as the People’s President.', 'The man had to face only a few critics his entire life.', 'The entire nation reacted to his death with grief.', 'Kalam was a great asset to India.', 'His unparalleled contributions in the field of science took India to new heights.', 'Kalam’s presidency was characterized by peace and efficiency.', 'Leaders keep on coming and going.', 'Every once in awhile, we come across someone as pre-eminent as Kalam.', 'His name will certainly go down in history as one of the greatest presidents that India has ever seen.', 'Moreover, people will also remember him as a brilliant scientist.', 'The man was a precious gem for each and every Indian.']\n",
      "41\n"
     ]
    }
   ],
   "source": [
    "# sentence tokenization\n",
    "\n",
    "sentences = nltk.sent_tokenize(speach)\n",
    "print(sentences)\n",
    "print(len(sentences))"
   ]
  },
  {
   "cell_type": "code",
   "execution_count": 34,
   "metadata": {},
   "outputs": [
    {
     "name": "stdout",
     "output_type": "stream",
     "text": [
      "['Early Life APJ Abdul kalam came world 15th October 1931 , time India British occupation .', 'born Tamil Muslim family Tamil Nadu .', 'father boat owner mother housewife .', 'Furthermore , Kalam five siblings youngest lot .', 'school , Kalam average student still hardworking bright .', 'think certainly great motivation average students .', 'average , must never ever underestimate continue hard work .', 'Illustrious Scientist year 1960 , APJ Abdul Kalam ’ graduation took place Madras Institute Technology .', 'association Kalam took place Defence Research & Development Service ( DRDS ) .', 'Furthermore , joined scientist Aeronautical Development Establishment Defence Research Development Organisation .', 'beginning achievements prestigious career scientist .', 'Big achievement Kalam came project director ISRO India ‘ first-ever Satellite Launch Vehicle ( SLV- III ) .', 'satellite responsible deployment Rohini satellite 1980 .', 'Moreover , Kalam highly influential development Polar Satellite Launch Vehicle ( PSLV ) SLV projects .', 'projects successful .', 'Bringing enhancement reputation Kalam .', 'Furthermore , development ballistic missiles possible efforts man .', 'noteworthy , Kalam earned esteemed title “ missile Man India ” .', 'Government India became aware brilliance man made Chief Executive Integrated Guided Missiles Development Program ( IGMDP ) .', 'Furthermore , program responsible research development Missiles .', 'achievements distinguished man ’ stop .', 'success come form Agni Prithvi missiles .', ', Kalam influential developments missiles .', 'tenure IGMDP Kalam played instrumental role developments missiles like Agni Prithvi .', 'Moreover , Kamal key figure Pokhran II nuclear test .', 'Get Huge list 100+ Speech Topics President India honor 11th president India went APJ Abdul Kalam .', 'marked another tremendous feat already venerable career .', 'highly acclaimed personality became president winning 2002 presidential election massive margin .', 'Legacy Saying Indian people love APJ Abdul Kalam would massive understatement .', 'Indian people huge affection man .', 'Consequently , known People ’ President .', 'man face critics entire life .', 'entire nation reacted death grief .', 'Kalam great asset India .', 'unparalleled contributions field science took India new heights .', 'Kalam ’ presidency characterized peace efficiency .', 'Leaders keep coming going .', 'Every awhile , come across someone pre-eminent Kalam .', 'name certainly go history one greatest presidents India ever seen .', 'Moreover , people also remember brilliant scientist .', 'man precious gem every Indian .']\n"
     ]
    }
   ],
   "source": [
    "# apply stop words\n",
    "filtered_sentences = []\n",
    "for sentence in sentences:\n",
    "    words = nltk.word_tokenize(sentence) # word tokenization\n",
    "    words = [word for word in words if word.lower() not in stop_words] # remove stop words\n",
    "    filtered_sentences.append(' '.join(words)) # join the words to form a sentence\n",
    "    \n",
    "print(filtered_sentences)"
   ]
  },
  {
   "cell_type": "code",
   "execution_count": 35,
   "metadata": {},
   "outputs": [
    {
     "name": "stdout",
     "output_type": "stream",
     "text": [
      "['earli life apj abdul kalam came world 15th octob 1931 , time india british occup .', 'born tamil muslim famili tamil nadu .', 'father boat owner mother housewif .', 'furthermor , kalam five sibl youngest lot .', 'school , kalam averag student still hardwork bright .', 'think certain great motiv averag student .', 'averag , must never ever underestim continu hard work .', 'illustri scientist year 1960 , apj abdul kalam ’ graduat took place madra institut technolog .', 'associ kalam took place defenc research & develop servic ( drds ) .', 'furthermor , join scientist aeronaut develop establish defenc research develop organis .', 'begin achiev prestigi career scientist .', 'big achiev kalam came project director isro india ‘ first-ev satellit launch vehicl ( slv- iii ) .', 'satellit respons deploy rohini satellit 1980 .', 'moreov , kalam high influenti develop polar satellit launch vehicl ( pslv ) slv project .', 'project success .', 'bring enhanc reput kalam .', 'furthermor , develop ballist missil possibl effort man .', 'noteworthi , kalam earn esteem titl “ missil man india ” .', 'govern india becam awar brillianc man made chief execut integr guid missil develop program ( igmdp ) .', 'furthermor , program respons research develop missil .', 'achiev distinguish man ’ stop .', 'success come form agni prithvi missil .', ', kalam influenti develop missil .', 'tenur igmdp kalam play instrument role develop missil like agni prithvi .', 'moreov , kamal key figur pokhran ii nuclear test .', 'get huge list 100+ speech topic presid india honor 11th presid india went apj abdul kalam .', 'mark anoth tremend feat alreadi vener career .', 'high acclaim person becam presid win 2002 presidenti elect massiv margin .', 'legaci say indian peopl love apj abdul kalam would massiv understat .', 'indian peopl huge affect man .', 'consequ , known peopl ’ presid .', 'man face critic entir life .', 'entir nation react death grief .', 'kalam great asset india .', 'unparallel contribut field scienc took india new height .', 'kalam ’ presid character peac effici .', 'leader keep come go .', 'everi awhil , come across someon pre-emin kalam .', 'name certain go histori one greatest presid india ever seen .', 'moreov , peopl also rememb brilliant scientist .', 'man precious gem everi indian .']\n"
     ]
    }
   ],
   "source": [
    "# apply stop words using snowball stemmer\n",
    "from nltk.stem import SnowballStemmer\n",
    "stemmer = SnowballStemmer(language) # create a stemmer object\n",
    "filtered_sentences = [] # to store the filtered sentences\n",
    "for sentence in sentences:\n",
    "    words = nltk.word_tokenize(sentence) # word tokenization\n",
    "    words = [stemmer.stem(word) for word in words if word.lower() not in stop_words] # remove stop words\n",
    "    filtered_sentences.append(' '.join(words)) # join the words to form a sentence\n",
    "    \n",
    "print(filtered_sentences)"
   ]
  },
  {
   "cell_type": "code",
   "execution_count": 36,
   "metadata": {},
   "outputs": [
    {
     "name": "stderr",
     "output_type": "stream",
     "text": [
      "[nltk_data] Downloading package wordnet to /home/qdr/nltk_data...\n",
      "[nltk_data]   Package wordnet is already up-to-date!\n"
     ]
    },
    {
     "name": "stdout",
     "output_type": "stream",
     "text": [
      "['Early Life APJ Abdul kalam came world 15th October 1931 , time India British occupation .', 'born Tamil Muslim family Tamil Nadu .', 'father boat owner mother housewife .', 'Furthermore , Kalam five sibling youngest lot .', 'school , Kalam average student still hardworking bright .', 'think certainly great motivation average student .', 'average , must never ever underestimate continue hard work .', 'Illustrious Scientist year 1960 , APJ Abdul Kalam ’ graduation took place Madras Institute Technology .', 'association Kalam took place Defence Research & Development Service ( DRDS ) .', 'Furthermore , joined scientist Aeronautical Development Establishment Defence Research Development Organisation .', 'beginning achievement prestigious career scientist .', 'Big achievement Kalam came project director ISRO India ‘ first-ever Satellite Launch Vehicle ( SLV- III ) .', 'satellite responsible deployment Rohini satellite 1980 .', 'Moreover , Kalam highly influential development Polar Satellite Launch Vehicle ( PSLV ) SLV project .', 'project successful .', 'Bringing enhancement reputation Kalam .', 'Furthermore , development ballistic missile possible effort man .', 'noteworthy , Kalam earned esteemed title “ missile Man India ” .', 'Government India became aware brilliance man made Chief Executive Integrated Guided Missiles Development Program ( IGMDP ) .', 'Furthermore , program responsible research development Missiles .', 'achievement distinguished man ’ stop .', 'success come form Agni Prithvi missile .', ', Kalam influential development missile .', 'tenure IGMDP Kalam played instrumental role development missile like Agni Prithvi .', 'Moreover , Kamal key figure Pokhran II nuclear test .', 'Get Huge list 100+ Speech Topics President India honor 11th president India went APJ Abdul Kalam .', 'marked another tremendous feat already venerable career .', 'highly acclaimed personality became president winning 2002 presidential election massive margin .', 'Legacy Saying Indian people love APJ Abdul Kalam would massive understatement .', 'Indian people huge affection man .', 'Consequently , known People ’ President .', 'man face critic entire life .', 'entire nation reacted death grief .', 'Kalam great asset India .', 'unparalleled contribution field science took India new height .', 'Kalam ’ presidency characterized peace efficiency .', 'Leaders keep coming going .', 'Every awhile , come across someone pre-eminent Kalam .', 'name certainly go history one greatest president India ever seen .', 'Moreover , people also remember brilliant scientist .', 'man precious gem every Indian .']\n"
     ]
    }
   ],
   "source": [
    "# apply stop words using lematization\n",
    "from nltk.stem import WordNetLemmatizer\n",
    "\n",
    "nltk.download('wordnet') # download the wordnet\n",
    "lemmatizer = WordNetLemmatizer() # create the lemmatizer object\n",
    "filtered_sentences = [] # create an empty list to store the filtered sentences\n",
    "for sentence in sentences:\n",
    "    words = nltk.word_tokenize(sentence) # word tokenization \n",
    "    words = [lemmatizer.lemmatize(word) for word in words if word.lower() not in stop_words] # remove stop words\n",
    "    filtered_sentences.append(' '.join(words)) # join the words to form a sentence\n",
    "    \n",
    "print(filtered_sentences)"
   ]
  },
  {
   "cell_type": "code",
   "execution_count": null,
   "metadata": {},
   "outputs": [],
   "source": []
  }
 ],
 "metadata": {
  "kernelspec": {
   "display_name": "nlp",
   "language": "python",
   "name": "python3"
  },
  "language_info": {
   "codemirror_mode": {
    "name": "ipython",
    "version": 3
   },
   "file_extension": ".py",
   "mimetype": "text/x-python",
   "name": "python",
   "nbconvert_exporter": "python",
   "pygments_lexer": "ipython3",
   "version": "3.10.14"
  }
 },
 "nbformat": 4,
 "nbformat_minor": 2
}
