{
 "cells": [
  {
   "cell_type": "code",
   "execution_count": 8,
   "metadata": {},
   "outputs": [],
   "source": [
    "import nltk"
   ]
  },
  {
   "cell_type": "markdown",
   "metadata": {},
   "source": [
    "# Part Of Speach Tag"
   ]
  },
  {
   "cell_type": "code",
   "execution_count": 9,
   "metadata": {},
   "outputs": [],
   "source": [
    "speach = \"\"\"\n",
    "Early Life\n",
    "APJ Abdul kalam came into this world on 15th October 1931, at a time when India was under British occupation. He was born to a Tamil Muslim family in Tamil Nadu. His father was a boat owner while his mother was a housewife. Furthermore, Kalam had five siblings and was the youngest of the lot.\n",
    "\n",
    "In school, Kalam was an average student but was still hardworking and bright. I think this certainly is a great motivation for all the average students out there. Being average, you must never ever underestimate yourself and continue doing the hard work.\n",
    "\n",
    "An Illustrious Scientist\n",
    "In the year 1960, APJ Abdul Kalam’s graduation took place from Madras Institute of Technology. The association of Kalam took place with the Defence Research & Development Service (DRDS). Furthermore, he joined as a scientist at the Aeronautical Development Establishment of the Defence Research and Development Organisation. These were the beginning achievements of his prestigious career as a scientist.\n",
    "\n",
    "Big achievement for Kalam came when he was the project director at ISRO of India‘s first-ever Satellite Launch Vehicle (SLV- III). This satellite was responsible for the deployment of the Rohini satellite in 1980. Moreover, Kalam was highly influential in the development of Polar Satellite Launch Vehicle (PSLV) and SLV projects.\n",
    "\n",
    "Both projects were successful. Bringing enhancement in the reputation of Kalam. Furthermore, the development of ballistic missiles was possible because of the efforts of this man. Most noteworthy, Kalam earned the esteemed title of “The missile Man of India”.\n",
    "\n",
    "The Government of India became aware of the brilliance of this man and made him the Chief Executive of the Integrated Guided Missiles Development Program (IGMDP). Furthermore, this program was responsible for the research and development of Missiles. The achievements of this distinguished man didn’t stop there.\n",
    "\n",
    "More success was to come in the form of Agni and Prithvi missiles. Once again, Kalam was influential in the developments of these missiles. It was during his tenure in IGMDP that Kalam played an instrumental role in the developments of missiles like Agni and Prithvi. Moreover, Kamal was a key figure in the Pokhran II nuclear test.\n",
    "\n",
    "Get the Huge list of 100+ Speech Topics here\n",
    "\n",
    "President Of India\n",
    "The honor of being the 11th president of India went to APJ Abdul Kalam. This marked another tremendous feat in his already venerable career. This highly acclaimed personality became president after winning the 2002 presidential election by a massive margin.\n",
    "\n",
    "His Legacy\n",
    "Saying that Indian people love APJ Abdul Kalam would be a massive understatement. The Indian people have a huge affection for this man. Consequently, he was known as the People’s President. The man had to face only a few critics his entire life.\n",
    "\n",
    "The entire nation reacted to his death with grief. Kalam was a great asset to India. His unparalleled contributions in the field of science took India to new heights. Kalam’s presidency was characterized by peace and efficiency.\n",
    "\n",
    "Leaders keep on coming and going. Every once in awhile, we come across someone as pre-eminent as Kalam. His name will certainly go down in history as one of the greatest presidents that India has ever seen. Moreover, people will also remember him as a brilliant scientist. The man was a precious gem for each and every Indian.\n",
    "\"\"\""
   ]
  },
  {
   "cell_type": "code",
   "execution_count": 10,
   "metadata": {},
   "outputs": [
    {
     "name": "stderr",
     "output_type": "stream",
     "text": [
      "[nltk_data] Downloading package averaged_perceptron_tagger to\n",
      "[nltk_data]     /home/qdr/nltk_data...\n",
      "[nltk_data]   Package averaged_perceptron_tagger is already up-to-\n",
      "[nltk_data]       date!\n"
     ]
    },
    {
     "data": {
      "text/plain": [
       "True"
      ]
     },
     "execution_count": 10,
     "metadata": {},
     "output_type": "execute_result"
    }
   ],
   "source": [
    "nltk.download('averaged_perceptron_tagger')"
   ]
  },
  {
   "cell_type": "markdown",
   "metadata": {},
   "source": [
    "### all the pos_tag in \"averaged_perceptron_tagger\"\n",
    "###### https://www.nltk.org/book/ch05.html\n",
    "###### https://www.ling.upenn.edu/courses/Fall_2003/ling001/penn_treebank_pos.html\n"
   ]
  },
  {
   "cell_type": "markdown",
   "metadata": {},
   "source": [
    "| Number | Tag | Description |\n",
    "| --- | --- | --- |\n",
    "| 1. | CC | Coordinating conjunction |\n",
    "| 2. | CD | Cardinal number |\n",
    "| 3. | DT | Determiner |\n",
    "| 4. | EX | Existential _there_ |\n",
    "| 5. | FW | Foreign word |\n",
    "| 6. | IN | Preposition or subordinating conjunction |\n",
    "| 7. | JJ | Adjective |\n",
    "| 8. | JJR | Adjective, comparative |\n",
    "| 9. | JJS | Adjective, superlative |\n",
    "| 10. | LS | List item marker |\n",
    "| 11. | MD | Modal |\n",
    "| 12. | NN | Noun, singular or mass |\n",
    "| 13. | NNS | Noun, plural |\n",
    "| 14. | NNP | Proper noun, singular |\n",
    "| 15. | NNPS | Proper noun, plural |\n",
    "| 16. | PDT | Predeterminer |\n",
    "| 17. | POS | Possessive ending |\n",
    "| 18. | PRP | Personal pronoun |\n",
    "| 19. | PRP$ | Possessive pronoun |\n",
    "| 20. | RB | Adverb |\n",
    "| 21. | RBR | Adverb, comparative |\n",
    "| 22. | RBS | Adverb, superlative |\n",
    "| 23. | RP | Particle |\n",
    "| 24. | SYM | Symbol |\n",
    "| 25. | TO | _to_ |\n",
    "| 26. | UH | Interjection |\n",
    "| 27. | VB | Verb, base form |\n",
    "| 28. | VBD | Verb, past tense |\n",
    "| 29. | VBG | Verb, gerund or present participle |\n",
    "| 30. | VBN | Verb, past participle |\n",
    "| 31. | VBP | Verb, non-3rd person singular present |\n",
    "| 32. | VBZ | Verb, 3rd person singular present |\n",
    "| 33. | WDT | Wh-determiner |\n",
    "| 34. | WP | Wh-pronoun |\n",
    "| 35. | WP$ | Possessive wh-pronoun |\n",
    "| 36. | WRB | Wh-adverb |"
   ]
  },
  {
   "cell_type": "code",
   "execution_count": 11,
   "metadata": {},
   "outputs": [
    {
     "name": "stdout",
     "output_type": "stream",
     "text": [
      "[('Early', 'JJ'), ('Life', 'NNP'), ('APJ', 'NNP'), ('Abdul', 'NNP'), ('kalam', 'NN'), ('came', 'VBD'), ('into', 'IN'), ('this', 'DT'), ('world', 'NN'), ('on', 'IN'), ('15th', 'CD'), ('October', 'NNP'), ('1931', 'CD'), (',', ','), ('at', 'IN'), ('a', 'DT'), ('time', 'NN'), ('when', 'WRB'), ('India', 'NNP'), ('was', 'VBD'), ('under', 'IN'), ('British', 'JJ'), ('occupation', 'NN'), ('.', '.'), ('He', 'PRP'), ('was', 'VBD'), ('born', 'VBN'), ('to', 'TO'), ('a', 'DT'), ('Tamil', 'NNP'), ('Muslim', 'NNP'), ('family', 'NN'), ('in', 'IN'), ('Tamil', 'NNP'), ('Nadu', 'NNP'), ('.', '.'), ('His', 'PRP$'), ('father', 'NN'), ('was', 'VBD'), ('a', 'DT'), ('boat', 'NN'), ('owner', 'NN'), ('while', 'IN'), ('his', 'PRP$'), ('mother', 'NN'), ('was', 'VBD'), ('a', 'DT'), ('housewife', 'NN'), ('.', '.'), ('Furthermore', 'NNP'), (',', ','), ('Kalam', 'NNP'), ('had', 'VBD'), ('five', 'CD'), ('siblings', 'NNS'), ('and', 'CC'), ('was', 'VBD'), ('the', 'DT'), ('youngest', 'JJS'), ('of', 'IN'), ('the', 'DT'), ('lot', 'NN'), ('.', '.'), ('In', 'IN'), ('school', 'NN'), (',', ','), ('Kalam', 'NNP'), ('was', 'VBD'), ('an', 'DT'), ('average', 'JJ'), ('student', 'NN'), ('but', 'CC'), ('was', 'VBD'), ('still', 'RB'), ('hardworking', 'VBG'), ('and', 'CC'), ('bright', 'JJ'), ('.', '.'), ('I', 'PRP'), ('think', 'VBP'), ('this', 'DT'), ('certainly', 'RB'), ('is', 'VBZ'), ('a', 'DT'), ('great', 'JJ'), ('motivation', 'NN'), ('for', 'IN'), ('all', 'PDT'), ('the', 'DT'), ('average', 'JJ'), ('students', 'NNS'), ('out', 'IN'), ('there', 'RB'), ('.', '.'), ('Being', 'NNP'), ('average', 'JJ'), (',', ','), ('you', 'PRP'), ('must', 'MD'), ('never', 'RB'), ('ever', 'RB'), ('underestimate', 'JJ'), ('yourself', 'PRP'), ('and', 'CC'), ('continue', 'VB'), ('doing', 'VBG'), ('the', 'DT'), ('hard', 'JJ'), ('work', 'NN'), ('.', '.'), ('An', 'DT'), ('Illustrious', 'JJ'), ('Scientist', 'NN'), ('In', 'IN'), ('the', 'DT'), ('year', 'NN'), ('1960', 'CD'), (',', ','), ('APJ', 'NNP'), ('Abdul', 'NNP'), ('Kalam', 'NNP'), ('’', 'NNP'), ('s', 'JJ'), ('graduation', 'NN'), ('took', 'VBD'), ('place', 'NN'), ('from', 'IN'), ('Madras', 'NNP'), ('Institute', 'NNP'), ('of', 'IN'), ('Technology', 'NNP'), ('.', '.'), ('The', 'DT'), ('association', 'NN'), ('of', 'IN'), ('Kalam', 'NNP'), ('took', 'VBD'), ('place', 'NN'), ('with', 'IN'), ('the', 'DT'), ('Defence', 'NNP'), ('Research', 'NNP'), ('&', 'CC'), ('Development', 'NNP'), ('Service', 'NNP'), ('(', '('), ('DRDS', 'NNP'), (')', ')'), ('.', '.'), ('Furthermore', 'RB'), (',', ','), ('he', 'PRP'), ('joined', 'VBD'), ('as', 'IN'), ('a', 'DT'), ('scientist', 'NN'), ('at', 'IN'), ('the', 'DT'), ('Aeronautical', 'NNP'), ('Development', 'NNP'), ('Establishment', 'NNP'), ('of', 'IN'), ('the', 'DT'), ('Defence', 'NNP'), ('Research', 'NNP'), ('and', 'CC'), ('Development', 'NNP'), ('Organisation', 'NNP'), ('.', '.'), ('These', 'DT'), ('were', 'VBD'), ('the', 'DT'), ('beginning', 'VBG'), ('achievements', 'NNS'), ('of', 'IN'), ('his', 'PRP$'), ('prestigious', 'JJ'), ('career', 'NN'), ('as', 'IN'), ('a', 'DT'), ('scientist', 'NN'), ('.', '.'), ('Big', 'JJ'), ('achievement', 'NN'), ('for', 'IN'), ('Kalam', 'NNP'), ('came', 'VBD'), ('when', 'WRB'), ('he', 'PRP'), ('was', 'VBD'), ('the', 'DT'), ('project', 'NN'), ('director', 'NN'), ('at', 'IN'), ('ISRO', 'NNP'), ('of', 'IN'), ('India', 'NNP'), ('‘', 'NNP'), ('s', 'VBD'), ('first-ever', 'RB'), ('Satellite', 'NNP'), ('Launch', 'NNP'), ('Vehicle', 'NNP'), ('(', '('), ('SLV-', 'NNP'), ('III', 'NNP'), (')', ')'), ('.', '.'), ('This', 'DT'), ('satellite', 'NN'), ('was', 'VBD'), ('responsible', 'JJ'), ('for', 'IN'), ('the', 'DT'), ('deployment', 'NN'), ('of', 'IN'), ('the', 'DT'), ('Rohini', 'NNP'), ('satellite', 'NN'), ('in', 'IN'), ('1980', 'CD'), ('.', '.'), ('Moreover', 'RB'), (',', ','), ('Kalam', 'NNP'), ('was', 'VBD'), ('highly', 'RB'), ('influential', 'JJ'), ('in', 'IN'), ('the', 'DT'), ('development', 'NN'), ('of', 'IN'), ('Polar', 'NNP'), ('Satellite', 'NNP'), ('Launch', 'NNP'), ('Vehicle', 'NNP'), ('(', '('), ('PSLV', 'NNP'), (')', ')'), ('and', 'CC'), ('SLV', 'NNP'), ('projects', 'NNS'), ('.', '.'), ('Both', 'DT'), ('projects', 'NNS'), ('were', 'VBD'), ('successful', 'JJ'), ('.', '.'), ('Bringing', 'VBG'), ('enhancement', 'NN'), ('in', 'IN'), ('the', 'DT'), ('reputation', 'NN'), ('of', 'IN'), ('Kalam', 'NNP'), ('.', '.'), ('Furthermore', 'NNP'), (',', ','), ('the', 'DT'), ('development', 'NN'), ('of', 'IN'), ('ballistic', 'JJ'), ('missiles', 'NNS'), ('was', 'VBD'), ('possible', 'JJ'), ('because', 'IN'), ('of', 'IN'), ('the', 'DT'), ('efforts', 'NNS'), ('of', 'IN'), ('this', 'DT'), ('man', 'NN'), ('.', '.'), ('Most', 'JJS'), ('noteworthy', 'JJ'), (',', ','), ('Kalam', 'NNP'), ('earned', 'VBD'), ('the', 'DT'), ('esteemed', 'JJ'), ('title', 'NN'), ('of', 'IN'), ('“', 'NNP'), ('The', 'DT'), ('missile', 'NN'), ('Man', 'NNP'), ('of', 'IN'), ('India', 'NNP'), ('”', 'NNP'), ('.', '.'), ('The', 'DT'), ('Government', 'NNP'), ('of', 'IN'), ('India', 'NNP'), ('became', 'VBD'), ('aware', 'JJ'), ('of', 'IN'), ('the', 'DT'), ('brilliance', 'NN'), ('of', 'IN'), ('this', 'DT'), ('man', 'NN'), ('and', 'CC'), ('made', 'VBD'), ('him', 'PRP'), ('the', 'DT'), ('Chief', 'NNP'), ('Executive', 'NNP'), ('of', 'IN'), ('the', 'DT'), ('Integrated', 'NNP'), ('Guided', 'NNP'), ('Missiles', 'NNP'), ('Development', 'NNP'), ('Program', 'NNP'), ('(', '('), ('IGMDP', 'NNP'), (')', ')'), ('.', '.'), ('Furthermore', 'RB'), (',', ','), ('this', 'DT'), ('program', 'NN'), ('was', 'VBD'), ('responsible', 'JJ'), ('for', 'IN'), ('the', 'DT'), ('research', 'NN'), ('and', 'CC'), ('development', 'NN'), ('of', 'IN'), ('Missiles', 'NNP'), ('.', '.'), ('The', 'DT'), ('achievements', 'NNS'), ('of', 'IN'), ('this', 'DT'), ('distinguished', 'VBN'), ('man', 'NN'), ('didn', 'NN'), ('’', 'NNP'), ('t', 'NN'), ('stop', 'NN'), ('there', 'RB'), ('.', '.'), ('More', 'JJR'), ('success', 'NN'), ('was', 'VBD'), ('to', 'TO'), ('come', 'VB'), ('in', 'IN'), ('the', 'DT'), ('form', 'NN'), ('of', 'IN'), ('Agni', 'NNP'), ('and', 'CC'), ('Prithvi', 'NNP'), ('missiles', 'NNS'), ('.', '.'), ('Once', 'RB'), ('again', 'RB'), (',', ','), ('Kalam', 'NNP'), ('was', 'VBD'), ('influential', 'JJ'), ('in', 'IN'), ('the', 'DT'), ('developments', 'NNS'), ('of', 'IN'), ('these', 'DT'), ('missiles', 'NNS'), ('.', '.'), ('It', 'PRP'), ('was', 'VBD'), ('during', 'IN'), ('his', 'PRP$'), ('tenure', 'NN'), ('in', 'IN'), ('IGMDP', 'NNP'), ('that', 'IN'), ('Kalam', 'NNP'), ('played', 'VBD'), ('an', 'DT'), ('instrumental', 'JJ'), ('role', 'NN'), ('in', 'IN'), ('the', 'DT'), ('developments', 'NNS'), ('of', 'IN'), ('missiles', 'NNS'), ('like', 'IN'), ('Agni', 'NNP'), ('and', 'CC'), ('Prithvi', 'NNP'), ('.', '.'), ('Moreover', 'RB'), (',', ','), ('Kamal', 'NNP'), ('was', 'VBD'), ('a', 'DT'), ('key', 'JJ'), ('figure', 'NN'), ('in', 'IN'), ('the', 'DT'), ('Pokhran', 'NNP'), ('II', 'NNP'), ('nuclear', 'JJ'), ('test', 'NN'), ('.', '.'), ('Get', 'VB'), ('the', 'DT'), ('Huge', 'NNP'), ('list', 'NN'), ('of', 'IN'), ('100+', 'CD'), ('Speech', 'NNP'), ('Topics', 'NNPS'), ('here', 'RB'), ('President', 'NNP'), ('Of', 'IN'), ('India', 'NNP'), ('The', 'DT'), ('honor', 'NN'), ('of', 'IN'), ('being', 'VBG'), ('the', 'DT'), ('11th', 'CD'), ('president', 'NN'), ('of', 'IN'), ('India', 'NNP'), ('went', 'VBD'), ('to', 'TO'), ('APJ', 'NNP'), ('Abdul', 'NNP'), ('Kalam', 'NNP'), ('.', '.'), ('This', 'DT'), ('marked', 'VBD'), ('another', 'DT'), ('tremendous', 'JJ'), ('feat', 'NN'), ('in', 'IN'), ('his', 'PRP$'), ('already', 'RB'), ('venerable', 'JJ'), ('career', 'NN'), ('.', '.'), ('This', 'DT'), ('highly', 'RB'), ('acclaimed', 'JJ'), ('personality', 'NN'), ('became', 'VBD'), ('president', 'NN'), ('after', 'IN'), ('winning', 'VBG'), ('the', 'DT'), ('2002', 'CD'), ('presidential', 'JJ'), ('election', 'NN'), ('by', 'IN'), ('a', 'DT'), ('massive', 'JJ'), ('margin', 'NN'), ('.', '.'), ('His', 'PRP$'), ('Legacy', 'NN'), ('Saying', 'VBG'), ('that', 'IN'), ('Indian', 'JJ'), ('people', 'NNS'), ('love', 'VBP'), ('APJ', 'NNP'), ('Abdul', 'NNP'), ('Kalam', 'NNP'), ('would', 'MD'), ('be', 'VB'), ('a', 'DT'), ('massive', 'JJ'), ('understatement', 'NN'), ('.', '.'), ('The', 'DT'), ('Indian', 'JJ'), ('people', 'NNS'), ('have', 'VBP'), ('a', 'DT'), ('huge', 'JJ'), ('affection', 'NN'), ('for', 'IN'), ('this', 'DT'), ('man', 'NN'), ('.', '.'), ('Consequently', 'RB'), (',', ','), ('he', 'PRP'), ('was', 'VBD'), ('known', 'VBN'), ('as', 'IN'), ('the', 'DT'), ('People', 'NNP'), ('’', 'NNP'), ('s', 'JJ'), ('President', 'NNP'), ('.', '.'), ('The', 'DT'), ('man', 'NN'), ('had', 'VBD'), ('to', 'TO'), ('face', 'VB'), ('only', 'RB'), ('a', 'DT'), ('few', 'JJ'), ('critics', 'NNS'), ('his', 'PRP$'), ('entire', 'JJ'), ('life', 'NN'), ('.', '.'), ('The', 'DT'), ('entire', 'JJ'), ('nation', 'NN'), ('reacted', 'VBD'), ('to', 'TO'), ('his', 'PRP$'), ('death', 'NN'), ('with', 'IN'), ('grief', 'NN'), ('.', '.'), ('Kalam', 'NNP'), ('was', 'VBD'), ('a', 'DT'), ('great', 'JJ'), ('asset', 'NN'), ('to', 'TO'), ('India', 'NNP'), ('.', '.'), ('His', 'PRP$'), ('unparalleled', 'JJ'), ('contributions', 'NNS'), ('in', 'IN'), ('the', 'DT'), ('field', 'NN'), ('of', 'IN'), ('science', 'NN'), ('took', 'VBD'), ('India', 'NNP'), ('to', 'TO'), ('new', 'JJ'), ('heights', 'NNS'), ('.', '.'), ('Kalam', 'NNP'), ('’', 'NNP'), ('s', 'VBD'), ('presidency', 'NN'), ('was', 'VBD'), ('characterized', 'VBN'), ('by', 'IN'), ('peace', 'NN'), ('and', 'CC'), ('efficiency', 'NN'), ('.', '.'), ('Leaders', 'NNS'), ('keep', 'VBP'), ('on', 'IN'), ('coming', 'JJ'), ('and', 'CC'), ('going', 'VBG'), ('.', '.'), ('Every', 'DT'), ('once', 'RB'), ('in', 'IN'), ('awhile', 'NN'), (',', ','), ('we', 'PRP'), ('come', 'VBP'), ('across', 'RB'), ('someone', 'NN'), ('as', 'RB'), ('pre-eminent', 'JJ'), ('as', 'IN'), ('Kalam', 'NNP'), ('.', '.'), ('His', 'PRP$'), ('name', 'NN'), ('will', 'MD'), ('certainly', 'RB'), ('go', 'VB'), ('down', 'RP'), ('in', 'IN'), ('history', 'NN'), ('as', 'IN'), ('one', 'CD'), ('of', 'IN'), ('the', 'DT'), ('greatest', 'JJS'), ('presidents', 'NNS'), ('that', 'WDT'), ('India', 'NNP'), ('has', 'VBZ'), ('ever', 'RB'), ('seen', 'VBN'), ('.', '.'), ('Moreover', 'RB'), (',', ','), ('people', 'NNS'), ('will', 'MD'), ('also', 'RB'), ('remember', 'VB'), ('him', 'PRP'), ('as', 'IN'), ('a', 'DT'), ('brilliant', 'JJ'), ('scientist', 'NN'), ('.', '.'), ('The', 'DT'), ('man', 'NN'), ('was', 'VBD'), ('a', 'DT'), ('precious', 'JJ'), ('gem', 'NN'), ('for', 'IN'), ('each', 'DT'), ('and', 'CC'), ('every', 'DT'), ('Indian', 'NN'), ('.', '.')]\n"
     ]
    }
   ],
   "source": [
    "# we will find the post tag of the words in the speach\n",
    "words = nltk.word_tokenize(speach) # tokenizing the words\n",
    "tags = nltk.pos_tag(words) # finding the post tags of the words\n",
    "print(tags)"
   ]
  },
  {
   "cell_type": "code",
   "execution_count": null,
   "metadata": {},
   "outputs": [],
   "source": []
  }
 ],
 "metadata": {
  "kernelspec": {
   "display_name": "nlp",
   "language": "python",
   "name": "python3"
  },
  "language_info": {
   "codemirror_mode": {
    "name": "ipython",
    "version": 3
   },
   "file_extension": ".py",
   "mimetype": "text/x-python",
   "name": "python",
   "nbconvert_exporter": "python",
   "pygments_lexer": "ipython3",
   "version": "3.10.14"
  }
 },
 "nbformat": 4,
 "nbformat_minor": 2
}
